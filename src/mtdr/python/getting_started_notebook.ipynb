{
 "cells": [
  {
   "cell_type": "markdown",
   "id": "bdee869f-d03c-4994-a127-092930eb6223",
   "metadata": {},
   "source": [
    "# This is a first tutorial of using gRPC for the automation of HyperLabs Piranha Platform."
   ]
  },
  {
   "cell_type": "markdown",
   "id": "61171529-19a7-420f-95c3-e5044d90f345",
   "metadata": {},
   "source": [
    "### We first import all the Required Python Packages such as 'gRPC' and 'logging' as well as the gRPC \"proto\" files. The proto files must reside in the same directory as the jupyter notebook. An introduction to gRPC can be found here: https://grpc.io/docs/what-is-grpc/introduction/"
   ]
  },
  {
   "cell_type": "code",
   "execution_count": 5,
   "id": "39aaf45b-2ff4-45ba-9918-08f51d033cf4",
   "metadata": {},
   "outputs": [],
   "source": [
    "import grpc\n",
    "from generated.nitrogen_public_pb2_grpc import NitrogenStub\n",
    "import generated.nitrogen_public_pb2 as nitrogen_public_pb2\n",
    "from generated.radium_public_pb2_grpc import RadiumStub\n",
    "import generated.radium_public_pb2 as radium_public_pb2\n",
    "from typing import Iterator\n",
    "import numpy as np\n",
    "import logging\n",
    "import matplotlib.pyplot as plt\n",
    "import time\n",
    "import threading\n",
    "import queue\n",
    "import sys\n",
    "from IPython.display import clear_output\n",
    "\n",
    "# Entry.\n",
    "logger = logging.getLogger(\"app\")\n",
    "logging.basicConfig(level=logging.INFO, format='[%(asctime)s] [%(name)s] [%(levelname)s] %(message)s', handlers=[logging.StreamHandler()])\n",
    "host_addr = \"hl-piranha-demo.local\""
   ]
  },
  {
   "cell_type": "markdown",
   "id": "8df87d38-f815-4fad-9859-f860879ad9fb",
   "metadata": {},
   "source": [
    "### As a first example we request the software version running on the Piranha platform using the Nitrogen service which runs on port `50051`."
   ]
  },
  {
   "cell_type": "code",
   "execution_count": 6,
   "id": "b5e3d969-d6da-4b83-8483-7e2650c5720e",
   "metadata": {},
   "outputs": [
    {
     "name": "stderr",
     "output_type": "stream",
     "text": [
      "[2025-10-16 09:41:43,573] [app] [INFO] Connected to hl-piranha-demo.local, device software version is 0.1.0.51c5417\n"
     ]
    }
   ],
   "source": [
    "nitrogen_stub = NitrogenStub(grpc.insecure_channel(host_addr + \":50051\"))\n",
    "try:\n",
    "    nitrogen_stub.IsReady(nitrogen_public_pb2.IsReadyRequest(), timeout=5)\n",
    "    version = nitrogen_stub.GetVersionId(nitrogen_public_pb2.GetVersionIdRequest())\n",
    "    version_parts = version.id.split('.')\n",
    "    version_dict = {\n",
    "        \"major\": version_parts[0] if len(version_parts) > 0 else \"\",\n",
    "        \"minor\": version_parts[1] if len(version_parts) > 1 else \"\",\n",
    "        \"patch\": version_parts[2] if len(version_parts) > 2 else \"\",\n",
    "        \"reserved\": version_parts[3] if len(version_parts) > 3 else \"\"\n",
    "    }\n",
    "    if version_dict[\"major\"] != \"0\" and version_dict[\"reserved\"] != \"dev\":\n",
    "        logger.error(f\"Device version is {version.id}, only versions with major == 0 are supported\")\n",
    "        raise ValueError(\"Device version mismatch\")\n",
    "    logger.info(f\"Connected to {host_addr}, device software version is {version.id}\")\n",
    "except Exception as e:\n",
    "    logging.error(e)\n",
    "    sys.exit()"
   ]
  },
  {
   "cell_type": "markdown",
   "id": "459a4ccb",
   "metadata": {},
   "source": [
    "### For the second example, let us demonstrate a stream using the Radium service which runs on port `50052`."
   ]
  },
  {
   "cell_type": "code",
   "execution_count": 7,
   "id": "20ec2c40",
   "metadata": {},
   "outputs": [
    {
     "data": {
      "image/png": "[encoded data removed]",
      "text/plain": [
       "<Figure size 1000x400 with 1 Axes>"
      ]
     },
     "metadata": {},
     "output_type": "display_data"
    }
   ],
   "source": [
    "def radium_state_updates(radium_stub: RadiumStub, logger: logging.Logger, radium_state_event_listener_it: Iterator[radium_public_pb2.StateEvent]):\n",
    "    '''Get radium state updates in a separate thread.'''\n",
    "    try:\n",
    "        while True:\n",
    "            state = radium_stub.GetState(radium_public_pb2.GetStateRequest())\n",
    "            if state.acquisition_stalled: logger.error(f\"Acquisition stalled\")\n",
    "            next(radium_state_event_listener_it)\n",
    "    except grpc.RpcError as e:\n",
    "        if running_evt.is_set(): logger.error(f\"gRPC error: {e.code()} - {e.details()}\")\n",
    "\n",
    "\n",
    "def radium_sample_stream(radium_stub: RadiumStub, logger: logging.Logger, sample_stream_queue: queue.Queue, sample_stream_listener_it: Iterator[radium_public_pb2.SampleStream]):\n",
    "    '''Stream samples in a separate thread.'''\n",
    "    try:\n",
    "        rx_count = 0\n",
    "        prev_log_rx_stream_rate_time = time.time()\n",
    "        while True:\n",
    "            next_msg = next(sample_stream_listener_it)\n",
    "            rx_count += 1\n",
    "            now = time.time()\n",
    "            log_rx_stream_rate_interval_sec = 5\n",
    "            if (now - prev_log_rx_stream_rate_time) > log_rx_stream_rate_interval_sec:\n",
    "                rate = rx_count / (now - prev_log_rx_stream_rate_time)\n",
    "                #logger.info(f\"RX sample stream rate is:{rate:.2f}Hz\")\n",
    "                if rx_count != 0:\n",
    "                    prev_log_rx_stream_rate_time = now\n",
    "                    rx_count = 0\n",
    "            try: sample_stream_queue.put(next_msg, block=False)\n",
    "            except queue.Full: pass\n",
    "    except grpc.RpcError as e:\n",
    "        if running_evt.is_set(): logger.error(f\"gRPC error: {e.code()} - {e.details()}\")\n",
    "\n",
    "\n",
    "# Entry.\n",
    "running_evt = threading.Event()\n",
    "running_evt.set()\n",
    "radium_stub = RadiumStub(grpc.insecure_channel(host_addr + \":50052\"))\n",
    "try:\n",
    "    radium_stub.IsReady(radium_public_pb2.IsReadyRequest(), timeout=5)\n",
    "except Exception as e:\n",
    "    logging.error(e)\n",
    "    sys.exit()\n",
    "radium_state = radium_stub.GetState(radium_public_pb2.GetStateRequest())\n",
    "if not radium_state.HasField(\"pulse_period_ns\") or not radium_state.HasField(\"sample_spacing_ps\"):\n",
    "    radium_stub.ConfigureTDRPreset(radium_public_pb2.ConfigureTDRPresetRequest(preset=radium_public_pb2.TDR_CONFIGURATION_PRESET_PULSE_PERIOD_16P0_NS_SAMPLE_SPACING_100P0_PS))\n",
    "radium_stub.EnableTDR(radium_public_pb2.EnableTDRRequest(enable=True))\n",
    "sample_stream_queue = queue.Queue(maxsize=10)\n",
    "radium_state_event_listener_it = radium_stub.ListenToStateEvent(radium_public_pb2.ListenToStateEventRequest())\n",
    "sample_stream_listener_it = radium_stub.ListenToSampleStream(radium_public_pb2.ListenToSampleStreamRequest())\n",
    "radium_state_work_thread = threading.Thread(target=radium_state_updates, args=(radium_stub, logger, radium_state_event_listener_it))\n",
    "radium_state_work_thread.start()\n",
    "sample_stream_work_thread = threading.Thread(target=radium_sample_stream, args=(radium_stub, logger, sample_stream_queue, sample_stream_listener_it))\n",
    "sample_stream_work_thread.start()\n",
    "\n",
    "# Visualization - initialization.\n",
    "plt.figure(figsize=(10, 4))\n",
    "plt.title(\"Waiting for stream...\")\n",
    "plt.xlabel('Time (ps)')\n",
    "plt.ylabel('Sn')\n",
    "plt.ylim(0, 1)\n",
    "plt.xlim(0, 1)\n",
    "title = \"\"\n",
    "sample_stream_count = 0\n",
    "prev_update_plot_title_time = time.time()\n",
    "pulse_period_ns = None\n",
    "sample_spacing_ps = None\n",
    "prev_displayed_pulse_period_ns = None\n",
    "prev_displayed_sample_spacing_ps = None\n",
    "\n",
    "# Visualization - loop for the given run time.\n",
    "run_time_sec = 10\n",
    "start_time = time.time()\n",
    "while (time.time() - start_time) < run_time_sec:\n",
    "    # Poll the queue for a new sample_stream.\n",
    "    try:\n",
    "        # Get a new sample stream and compute the pulse period.\n",
    "        sample_stream = sample_stream_queue.get(timeout=0.001)\n",
    "        sample_stream_count += 1\n",
    "        sample_spacing_ps = sample_stream.sample_spacing_ps\n",
    "        pulse_period_ns = sample_stream.pulse_period_ns\n",
    "\n",
    "        # Draw.\n",
    "        x = np.arange(len(sample_stream.sample)) * sample_spacing_ps\n",
    "        y = sample_stream.sample\n",
    "        clear_output(wait=True)\n",
    "        plt.figure(figsize=(10, 4))\n",
    "        plt.scatter(x, y, c='blue', s=10)\n",
    "        plt.title(title)\n",
    "        plt.xlabel('Time (ps)')\n",
    "        plt.ylabel('Sn')\n",
    "        plt.ylim(0, 1)\n",
    "        xlim_max = len(sample_stream.sample) * sample_spacing_ps\n",
    "        plt.xlim(0, xlim_max)\n",
    "        plt.grid(True)\n",
    "        plt.show()\n",
    "\n",
    "    except queue.Empty:\n",
    "        pass\n",
    "\n",
    "    # Update title.\n",
    "    # Restart the counter and the previous refresh rate timestamp only if we have something. Otherwise, refresh the display of slow refresh rates will reset to 0 between updates.\n",
    "    if (sample_spacing_ps is not None):\n",
    "        now = time.time()\n",
    "        title_update_interval_without_state_change_sec = 1\n",
    "        if ((now - prev_update_plot_title_time) > title_update_interval_without_state_change_sec) or sample_spacing_ps != prev_displayed_sample_spacing_ps or pulse_period_ns != prev_displayed_pulse_period_ns:\n",
    "            rate = sample_stream_count / (now - prev_update_plot_title_time)\n",
    "            title = f\"TDR: Pulse Period:{pulse_period_ns:.2f}ns, Sample Spacing:{sample_spacing_ps}ps, Refresh Rate:{'--' if prev_displayed_sample_spacing_ps is None else f'{rate:.2f}'}Hz\"\n",
    "            if sample_stream_count != 0:\n",
    "                sample_stream_count = 0\n",
    "                prev_update_plot_title_time = now\n",
    "\n",
    "    # Pause to allow matplotlib event loop to run such that the UI will stay responsive.\n",
    "    plt.pause(0.001)\n",
    "\n",
    "    # Update previous state.\n",
    "    prev_displayed_sample_spacing_ps = sample_spacing_ps\n",
    "    prev_displayed_pulse_period_ns = pulse_period_ns\n",
    "\n",
    "# Clean up.\n",
    "running_evt.clear()\n",
    "radium_state_event_listener_it.cancel()\n",
    "sample_stream_listener_it.cancel()\n",
    "radium_state_work_thread.join()\n",
    "sample_stream_work_thread.join()"
   ]
  }
 ],
 "metadata": {
  "kernelspec": {
   "display_name": ".venv",
   "language": "python",
   "name": "python3"
  },
  "language_info": {
   "codemirror_mode": {
    "name": "ipython",
    "version": 3
   },
   "file_extension": ".py",
   "mimetype": "text/x-python",
   "name": "python",
   "nbconvert_exporter": "python",
   "pygments_lexer": "ipython3",
   "version": "3.13.4"
  }
 },
 "nbformat": 4,
 "nbformat_minor": 5
}
